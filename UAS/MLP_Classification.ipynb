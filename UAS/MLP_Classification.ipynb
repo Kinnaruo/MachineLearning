{
 "cells": [
  {
   "cell_type": "markdown",
   "id": "4a7af984",
   "metadata": {},
   "source": [
    "# MLP Classification Pipeline - PyTorch Only"
   ]
  },
  {
   "cell_type": "markdown",
   "id": "110a26f6",
   "metadata": {},
   "source": [
    "## Preprocessing"
   ]
  },
  {
   "cell_type": "code",
   "execution_count": 2,
   "id": "c325e1be",
   "metadata": {},
   "outputs": [],
   "source": [
    "\n",
    "import pandas as pd\n",
    "import numpy as np\n",
    "import matplotlib.pyplot as plt\n",
    "import seaborn as sns\n",
    "from sklearn.model_selection import train_test_split\n",
    "from sklearn.preprocessing import StandardScaler\n",
    "from sklearn.metrics import accuracy_score, precision_score, recall_score, f1_score, confusion_matrix, roc_curve, auc\n",
    "\n",
    "import torch\n",
    "import torch.nn as nn\n",
    "import torch.optim as optim\n",
    "from torch.utils.data import Dataset, DataLoader\n",
    "\n",
    "df = pd.read_csv('KlasifikasiUTS.csv')\n",
    "\n",
    "y = df['Class']\n",
    "X = df.drop(columns=['Class', 'Time'])\n",
    "\n",
    "X_train, X_test, y_train, y_test = train_test_split(X, y, test_size=0.2, stratify=y, random_state=42)\n",
    "\n",
    "scaler = StandardScaler()\n",
    "X_train_scaled = scaler.fit_transform(X_train)\n",
    "X_test_scaled = scaler.transform(X_test)\n"
   ]
  },
  {
   "cell_type": "markdown",
   "id": "c64db10c",
   "metadata": {},
   "source": [
    "## Dataset & Dataloader"
   ]
  },
  {
   "cell_type": "code",
   "execution_count": 3,
   "id": "4df5a5c3",
   "metadata": {},
   "outputs": [],
   "source": [
    "\n",
    "class CustomDataset(Dataset):\n",
    "    def __init__(self, X, y):\n",
    "        self.X = torch.tensor(X, dtype=torch.float32)\n",
    "        self.y = torch.tensor(y.values, dtype=torch.float32)\n",
    "\n",
    "    def __len__(self):\n",
    "        return len(self.X)\n",
    "\n",
    "    def __getitem__(self, idx):\n",
    "        return self.X[idx], self.y[idx]\n",
    "\n",
    "train_dataset = CustomDataset(X_train_scaled, y_train)\n",
    "test_dataset = CustomDataset(X_test_scaled, y_test)\n",
    "\n",
    "train_loader = DataLoader(train_dataset, batch_size=64, shuffle=True)\n",
    "test_loader = DataLoader(test_dataset, batch_size=64, shuffle=False)\n",
    "\n",
    "device = torch.device(\"cuda\" if torch.cuda.is_available() else \"cpu\")\n"
   ]
  },
  {
   "cell_type": "markdown",
   "id": "a63d5fe6",
   "metadata": {},
   "source": [
    "## Model"
   ]
  },
  {
   "cell_type": "code",
   "execution_count": 4,
   "id": "314dadff",
   "metadata": {},
   "outputs": [],
   "source": [
    "\n",
    "def build_model(input_dim):\n",
    "    return nn.Sequential(\n",
    "        nn.Linear(input_dim, 128),\n",
    "        nn.BatchNorm1d(128),\n",
    "        nn.ReLU(),\n",
    "        nn.Dropout(0.5),\n",
    "\n",
    "        nn.Linear(128, 64),\n",
    "        nn.BatchNorm1d(64),\n",
    "        nn.ReLU(),\n",
    "        nn.Dropout(0.5),\n",
    "\n",
    "        nn.Linear(64, 1),\n",
    "        nn.Sigmoid()\n",
    "    )\n",
    "\n",
    "model = build_model(X_train_scaled.shape[1]).to(device)\n",
    "\n",
    "optimizer = optim.AdamW(model.parameters(), lr=1e-3, weight_decay=1e-5)\n",
    "criterion = nn.BCELoss()\n"
   ]
  },
  {
   "cell_type": "markdown",
   "id": "3b432e5b",
   "metadata": {},
   "source": [
    "## Training"
   ]
  },
  {
   "cell_type": "code",
   "execution_count": 5,
   "id": "d3b9f2a2",
   "metadata": {},
   "outputs": [
    {
     "name": "stdout",
     "output_type": "stream",
     "text": [
      "Epoch 1/50, Loss: 0.0189\n",
      "Epoch 2/50, Loss: 0.0047\n",
      "Epoch 3/50, Loss: 0.0044\n",
      "Epoch 4/50, Loss: 0.0040\n",
      "Epoch 5/50, Loss: 0.0039\n",
      "Epoch 6/50, Loss: 0.0036\n",
      "Epoch 7/50, Loss: 0.0035\n",
      "Epoch 8/50, Loss: 0.0035\n",
      "Epoch 9/50, Loss: 0.0034\n",
      "Epoch 10/50, Loss: 0.0033\n",
      "Epoch 11/50, Loss: 0.0033\n",
      "Epoch 12/50, Loss: 0.0032\n",
      "Epoch 13/50, Loss: 0.0031\n",
      "Epoch 14/50, Loss: 0.0031\n",
      "Epoch 15/50, Loss: 0.0032\n",
      "Epoch 16/50, Loss: 0.0030\n",
      "Epoch 17/50, Loss: 0.0030\n",
      "Epoch 18/50, Loss: 0.0029\n",
      "Epoch 19/50, Loss: 0.0030\n",
      "Epoch 20/50, Loss: 0.0030\n",
      "Epoch 21/50, Loss: 0.0029\n",
      "Epoch 22/50, Loss: 0.0029\n",
      "Epoch 23/50, Loss: 0.0029\n",
      "Epoch 24/50, Loss: 0.0028\n",
      "Epoch 25/50, Loss: 0.0028\n",
      "Epoch 26/50, Loss: 0.0028\n",
      "Epoch 27/50, Loss: 0.0027\n",
      "Epoch 28/50, Loss: 0.0027\n",
      "Epoch 29/50, Loss: 0.0027\n",
      "Epoch 30/50, Loss: 0.0027\n",
      "Epoch 31/50, Loss: 0.0027\n",
      "Epoch 32/50, Loss: 0.0027\n",
      "Epoch 33/50, Loss: 0.0026\n",
      "Epoch 34/50, Loss: 0.0025\n",
      "Epoch 35/50, Loss: 0.0027\n",
      "Epoch 36/50, Loss: 0.0026\n",
      "Epoch 37/50, Loss: 0.0025\n",
      "Epoch 38/50, Loss: 0.0026\n",
      "Epoch 39/50, Loss: 0.0026\n",
      "Epoch 40/50, Loss: 0.0025\n",
      "Epoch 41/50, Loss: 0.0025\n",
      "Epoch 42/50, Loss: 0.0025\n",
      "Epoch 43/50, Loss: 0.0025\n",
      "Epoch 44/50, Loss: 0.0025\n",
      "Epoch 45/50, Loss: 0.0025\n",
      "Epoch 46/50, Loss: 0.0026\n",
      "Epoch 47/50, Loss: 0.0026\n",
      "Epoch 48/50, Loss: 0.0024\n",
      "Epoch 49/50, Loss: 0.0025\n",
      "Epoch 50/50, Loss: 0.0023\n"
     ]
    },
    {
     "data": {
      "text/plain": [
       "<All keys matched successfully>"
      ]
     },
     "execution_count": 5,
     "metadata": {},
     "output_type": "execute_result"
    }
   ],
   "source": [
    "\n",
    "epochs = 50\n",
    "best_loss = np.inf\n",
    "patience = 10\n",
    "counter = 0\n",
    "\n",
    "for epoch in range(epochs):\n",
    "    model.train()\n",
    "    train_loss = 0\n",
    "    for X_batch, y_batch in train_loader:\n",
    "        X_batch, y_batch = X_batch.to(device), y_batch.to(device).unsqueeze(1)\n",
    "\n",
    "        optimizer.zero_grad()\n",
    "        outputs = model(X_batch)\n",
    "        loss = criterion(outputs, y_batch)\n",
    "        loss.backward()\n",
    "        optimizer.step()\n",
    "\n",
    "        train_loss += loss.item()\n",
    "\n",
    "    avg_train_loss = train_loss / len(train_loader)\n",
    "    print(f\"Epoch {epoch+1}/{epochs}, Loss: {avg_train_loss:.4f}\")\n",
    "\n",
    "    if avg_train_loss < best_loss:\n",
    "        best_loss = avg_train_loss\n",
    "        counter = 0\n",
    "        torch.save(model.state_dict(), \"best_model.pt\")\n",
    "    else:\n",
    "        counter += 1\n",
    "        if counter >= patience:\n",
    "            print(\"Early stopping!\")\n",
    "            break\n",
    "\n",
    "model.load_state_dict(torch.load(\"best_model.pt\"))\n"
   ]
  },
  {
   "cell_type": "markdown",
   "id": "91ab0f49",
   "metadata": {},
   "source": [
    "## Evaluation"
   ]
  },
  {
   "cell_type": "code",
   "execution_count": 6,
   "id": "e41a2d29",
   "metadata": {},
   "outputs": [
    {
     "name": "stdout",
     "output_type": "stream",
     "text": [
      "PyTorch MLP - Accuracy: 0.9994 Precision: 0.8000 Recall: 0.8571 F1-score: 0.8276\n"
     ]
    },
    {
     "data": {
      "image/png": "[encoded data removed]",
      "text/plain": [
       "<Figure size 640x480 with 2 Axes>"
      ]
     },
     "metadata": {},
     "output_type": "display_data"
    },
    {
     "data": {
      "image/png": "[encoded data removed]",
      "text/plain": [
       "<Figure size 640x480 with 1 Axes>"
      ]
     },
     "metadata": {},
     "output_type": "display_data"
    }
   ],
   "source": [
    "\n",
    "def evaluate_model(model, test_loader, y_test, name=\"PyTorch MLP\"):\n",
    "    model.eval()\n",
    "    y_true = []\n",
    "    y_pred = []\n",
    "    y_pred_prob = []\n",
    "\n",
    "    with torch.no_grad():\n",
    "        for X_batch, y_batch in test_loader:\n",
    "            X_batch = X_batch.to(device)\n",
    "            outputs = model(X_batch)\n",
    "            preds = (outputs.cpu().numpy() > 0.5).astype(int)\n",
    "\n",
    "            y_true.extend(y_batch.numpy())\n",
    "            y_pred.extend(preds.flatten())\n",
    "            y_pred_prob.extend(outputs.cpu().numpy().flatten())\n",
    "\n",
    "    acc = accuracy_score(y_true, y_pred)\n",
    "    prec = precision_score(y_true, y_pred)\n",
    "    rec = recall_score(y_true, y_pred)\n",
    "    f1 = f1_score(y_true, y_pred)\n",
    "\n",
    "    print(f\"{name} - Accuracy: {acc:.4f} Precision: {prec:.4f} Recall: {rec:.4f} F1-score: {f1:.4f}\")\n",
    "\n",
    "    cm = confusion_matrix(y_true, y_pred)\n",
    "    sns.heatmap(cm, annot=True, fmt='d', cmap='Blues')\n",
    "    plt.title(f'{name} - Confusion Matrix')\n",
    "    plt.xlabel('Predicted')\n",
    "    plt.ylabel('Actual')\n",
    "    plt.show()\n",
    "\n",
    "    fpr, tpr, _ = roc_curve(y_true, y_pred_prob)\n",
    "    roc_auc = auc(fpr, tpr)\n",
    "    plt.plot(fpr, tpr, label=f'{name} (AUC = {roc_auc:.4f})')\n",
    "    plt.plot([0,1],[0,1],'--')\n",
    "    plt.xlabel('False Positive Rate')\n",
    "    plt.ylabel('True Positive Rate')\n",
    "    plt.title(f'{name} - ROC Curve')\n",
    "    plt.legend()\n",
    "    plt.show()\n",
    "\n",
    "evaluate_model(model, test_loader, y_test)\n"
   ]
  },
  {
   "cell_type": "markdown",
   "id": "0e79a237",
   "metadata": {},
   "source": [
    "Klasifikasi di atas adalah klasifikasi biner dengan class 0 dan 1\n",
    "Fitur di-scale menggunakan Standardscaler dan di split 80:20\n",
    "\n",
    "Dataset dibungkus menjadi PyTorch Dataset\n",
    "\n",
    "# MODEL\n",
    "MLP (Multi-Layer Perceptron), arsitektur:\n",
    "\n",
    "Linear( input_dim → 128 ) → BatchNorm → ReLU → Dropout(0.5)\n",
    "\n",
    "Linear(128 → 64) → BatchNorm → ReLU → Dropout(0.5)\n",
    "\n",
    "Linear(64 → 1) → Sigmoid (karena klasifikasi biner)\n",
    "\n",
    "Optimizer = AdamW (modern, ada weight decay)\n",
    "\n",
    "Loss = BCELoss (binary cross-entropy)"
   ]
  },
  {
   "cell_type": "markdown",
   "id": "a11fe524",
   "metadata": {},
   "source": [
    "# MATRIKS EVALUASI\n",
    "Model dapat menggenarlisasi dengan baik karena AUC tinggi (~0.98) dan F1-score balance (0.82). Precision dan recall juga tinggi."
   ]
  },
  {
   "cell_type": "markdown",
   "id": "66cab7fc",
   "metadata": {},
   "source": []
  }
 ],
 "metadata": {
  "kernelspec": {
   "display_name": ".venv",
   "language": "python",
   "name": "python3"
  },
  "language_info": {
   "codemirror_mode": {
    "name": "ipython",
    "version": 3
   },
   "file_extension": ".py",
   "mimetype": "text/x-python",
   "name": "python",
   "nbconvert_exporter": "python",
   "pygments_lexer": "ipython3",
   "version": "3.12.4"
  }
 },
 "nbformat": 4,
 "nbformat_minor": 5
}
