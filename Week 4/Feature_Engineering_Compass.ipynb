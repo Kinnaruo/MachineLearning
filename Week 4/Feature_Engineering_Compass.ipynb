{
  "nbformat": 4,
  "nbformat_minor": 0,
  "metadata": {
    "colab": {
      "provenance": [],
      "authorship_tag": "ABX9TyPLBP+02s3VY9RkNXVssOav",
      "include_colab_link": true
    },
    "kernelspec": {
      "name": "python3",
      "display_name": "Python 3"
    },
    "language_info": {
      "name": "python"
    }
  },
  "cells": [
    {
      "cell_type": "markdown",
      "metadata": {
        "id": "view-in-github",
        "colab_type": "text"
      },
      "source": [
        "<a href=\"https://colab.research.google.com/github/Kinnaruo/MachineLearning/blob/main/Week%204/Feature_Engineering_Compass.ipynb\" target=\"_parent\"><img src=\"https://colab.research.google.com/assets/colab-badge.svg\" alt=\"Open In Colab\"/></a>"
      ]
    },
    {
      "cell_type": "code",
      "source": [
        "import pandas as pd\n",
        "import matplotlib.pyplot as plt\n",
        "import seaborn as sns\n",
        "from sklearn.model_selection import train_test_split\n",
        "from sklearn.linear_model import LogisticRegression\n",
        "from sklearn.preprocessing import LabelEncoder, StandardScaler\n",
        "from sklearn.metrics import accuracy_score, classification_report\n",
        "from sklearn.metrics import mean_squared_error, r2_score\n",
        "import numpy as np\n",
        "from sklearn.metrics import roc_curve, roc_auc_score\n",
        "import matplotlib.pyplot as plt"
      ],
      "metadata": {
        "id": "rBO2PUyF5DPE"
      },
      "execution_count": 6,
      "outputs": []
    },
    {
      "cell_type": "code",
      "execution_count": 7,
      "metadata": {
        "id": "ARtvzvbA4j9V",
        "colab": {
          "base_uri": "https://localhost:8080/"
        },
        "outputId": "ec85a75a-35c5-4eea-f98c-fe52768ed14a"
      },
      "outputs": [
        {
          "output_type": "stream",
          "name": "stdout",
          "text": [
            "<class 'pandas.core.frame.DataFrame'>\n",
            "RangeIndex: 7214 entries, 0 to 7213\n",
            "Data columns (total 53 columns):\n",
            " #   Column                   Non-Null Count  Dtype  \n",
            "---  ------                   --------------  -----  \n",
            " 0   id                       7214 non-null   int64  \n",
            " 1   name                     7214 non-null   object \n",
            " 2   first                    7214 non-null   object \n",
            " 3   last                     7214 non-null   object \n",
            " 4   compas_screening_date    7214 non-null   object \n",
            " 5   sex                      7214 non-null   object \n",
            " 6   dob                      7214 non-null   object \n",
            " 7   age                      7214 non-null   int64  \n",
            " 8   age_cat                  7214 non-null   object \n",
            " 9   race                     7214 non-null   object \n",
            " 10  juv_fel_count            7214 non-null   int64  \n",
            " 11  decile_score             7214 non-null   int64  \n",
            " 12  juv_misd_count           7214 non-null   int64  \n",
            " 13  juv_other_count          7214 non-null   int64  \n",
            " 14  priors_count             7214 non-null   int64  \n",
            " 15  days_b_screening_arrest  6907 non-null   float64\n",
            " 16  c_jail_in                6907 non-null   object \n",
            " 17  c_jail_out               6907 non-null   object \n",
            " 18  c_case_number            7192 non-null   object \n",
            " 19  c_offense_date           6055 non-null   object \n",
            " 20  c_arrest_date            1137 non-null   object \n",
            " 21  c_days_from_compas       7192 non-null   float64\n",
            " 22  c_charge_degree          7214 non-null   object \n",
            " 23  c_charge_desc            7185 non-null   object \n",
            " 24  is_recid                 7214 non-null   int64  \n",
            " 25  r_case_number            3471 non-null   object \n",
            " 26  r_charge_degree          3471 non-null   object \n",
            " 27  r_days_from_arrest       2316 non-null   float64\n",
            " 28  r_offense_date           3471 non-null   object \n",
            " 29  r_charge_desc            3413 non-null   object \n",
            " 30  r_jail_in                2316 non-null   object \n",
            " 31  r_jail_out               2316 non-null   object \n",
            " 32  violent_recid            0 non-null      float64\n",
            " 33  is_violent_recid         7214 non-null   int64  \n",
            " 34  vr_case_number           819 non-null    object \n",
            " 35  vr_charge_degree         819 non-null    object \n",
            " 36  vr_offense_date          819 non-null    object \n",
            " 37  vr_charge_desc           819 non-null    object \n",
            " 38  type_of_assessment       7214 non-null   object \n",
            " 39  decile_score.1           7214 non-null   int64  \n",
            " 40  score_text               7214 non-null   object \n",
            " 41  screening_date           7214 non-null   object \n",
            " 42  v_type_of_assessment     7214 non-null   object \n",
            " 43  v_decile_score           7214 non-null   int64  \n",
            " 44  v_score_text             7214 non-null   object \n",
            " 45  v_screening_date         7214 non-null   object \n",
            " 46  in_custody               6978 non-null   object \n",
            " 47  out_custody              6978 non-null   object \n",
            " 48  priors_count.1           7214 non-null   int64  \n",
            " 49  start                    7214 non-null   int64  \n",
            " 50  end                      7214 non-null   int64  \n",
            " 51  event                    7214 non-null   int64  \n",
            " 52  two_year_recid           7214 non-null   int64  \n",
            "dtypes: float64(4), int64(16), object(33)\n",
            "memory usage: 2.9+ MB\n",
            "None\n",
            "                 id          age  juv_fel_count  decile_score  juv_misd_count  \\\n",
            "count   7214.000000  7214.000000    7214.000000   7214.000000     7214.000000   \n",
            "mean    5501.255753    34.817993       0.067230      4.509565        0.090934   \n",
            "std     3175.706870    11.888922       0.473972      2.856396        0.485239   \n",
            "min        1.000000    18.000000       0.000000      1.000000        0.000000   \n",
            "25%     2735.250000    25.000000       0.000000      2.000000        0.000000   \n",
            "50%     5509.500000    31.000000       0.000000      4.000000        0.000000   \n",
            "75%     8246.500000    42.000000       0.000000      7.000000        0.000000   \n",
            "max    11001.000000    96.000000      20.000000     10.000000       13.000000   \n",
            "\n",
            "       juv_other_count  priors_count  days_b_screening_arrest  \\\n",
            "count      7214.000000   7214.000000              6907.000000   \n",
            "mean          0.109371      3.472415                 3.304763   \n",
            "std           0.501586      4.882538                75.809505   \n",
            "min           0.000000      0.000000              -414.000000   \n",
            "25%           0.000000      0.000000                -1.000000   \n",
            "50%           0.000000      2.000000                -1.000000   \n",
            "75%           0.000000      5.000000                 0.000000   \n",
            "max          17.000000     38.000000              1057.000000   \n",
            "\n",
            "       c_days_from_compas     is_recid  r_days_from_arrest  violent_recid  \\\n",
            "count         7192.000000  7214.000000         2316.000000            0.0   \n",
            "mean            57.731368     0.481148           20.269430            NaN   \n",
            "std            329.740215     0.499679           74.871668            NaN   \n",
            "min              0.000000     0.000000           -1.000000            NaN   \n",
            "25%              1.000000     0.000000            0.000000            NaN   \n",
            "50%              1.000000     0.000000            0.000000            NaN   \n",
            "75%              2.000000     1.000000            1.000000            NaN   \n",
            "max           9485.000000     1.000000          993.000000            NaN   \n",
            "\n",
            "       is_violent_recid  decile_score.1  v_decile_score  priors_count.1  \\\n",
            "count       7214.000000     7214.000000     7214.000000     7214.000000   \n",
            "mean           0.113529        4.509565        3.691849        3.472415   \n",
            "std            0.317261        2.856396        2.510148        4.882538   \n",
            "min            0.000000        1.000000        1.000000        0.000000   \n",
            "25%            0.000000        2.000000        1.000000        0.000000   \n",
            "50%            0.000000        4.000000        3.000000        2.000000   \n",
            "75%            0.000000        7.000000        5.000000        5.000000   \n",
            "max            1.000000       10.000000       10.000000       38.000000   \n",
            "\n",
            "             start          end        event  two_year_recid  \n",
            "count  7214.000000  7214.000000  7214.000000     7214.000000  \n",
            "mean     11.465068   553.436651     0.382867        0.450652  \n",
            "std      46.954563   399.020583     0.486120        0.497593  \n",
            "min       0.000000     0.000000     0.000000        0.000000  \n",
            "25%       0.000000   148.250000     0.000000        0.000000  \n",
            "50%       0.000000   530.500000     0.000000        0.000000  \n",
            "75%       1.000000   914.000000     1.000000        1.000000  \n",
            "max     937.000000  1186.000000     1.000000        1.000000  \n",
            "id                            0\n",
            "name                          0\n",
            "first                         0\n",
            "last                          0\n",
            "compas_screening_date         0\n",
            "sex                           0\n",
            "dob                           0\n",
            "age                           0\n",
            "age_cat                       0\n",
            "race                          0\n",
            "juv_fel_count                 0\n",
            "decile_score                  0\n",
            "juv_misd_count                0\n",
            "juv_other_count               0\n",
            "priors_count                  0\n",
            "days_b_screening_arrest     307\n",
            "c_jail_in                   307\n",
            "c_jail_out                  307\n",
            "c_case_number                22\n",
            "c_offense_date             1159\n",
            "c_arrest_date              6077\n",
            "c_days_from_compas           22\n",
            "c_charge_degree               0\n",
            "c_charge_desc                29\n",
            "is_recid                      0\n",
            "r_case_number              3743\n",
            "r_charge_degree            3743\n",
            "r_days_from_arrest         4898\n",
            "r_offense_date             3743\n",
            "r_charge_desc              3801\n",
            "r_jail_in                  4898\n",
            "r_jail_out                 4898\n",
            "violent_recid              7214\n",
            "is_violent_recid              0\n",
            "vr_case_number             6395\n",
            "vr_charge_degree           6395\n",
            "vr_offense_date            6395\n",
            "vr_charge_desc             6395\n",
            "type_of_assessment            0\n",
            "decile_score.1                0\n",
            "score_text                    0\n",
            "screening_date                0\n",
            "v_type_of_assessment          0\n",
            "v_decile_score                0\n",
            "v_score_text                  0\n",
            "v_screening_date              0\n",
            "in_custody                  236\n",
            "out_custody                 236\n",
            "priors_count.1                0\n",
            "start                         0\n",
            "end                           0\n",
            "event                         0\n",
            "two_year_recid                0\n",
            "dtype: int64\n"
          ]
        }
      ],
      "source": [
        "url = \"https://raw.githubusercontent.com/farrelrassya/teachingMLDL/refs/heads/main/01.%20Machine%20Learning/04.%20Week%204/Datasets/compas-scores-two-years.csv\"\n",
        "\n",
        "df= pd.read_csv(url)\n",
        "df.head()\n",
        "\n",
        "# Cek info awal\n",
        "print(df.info())\n",
        "print(df.describe())\n",
        "\n",
        "# Cek missing values\n",
        "print(df.isnull().sum())"
      ]
    },
    {
      "cell_type": "code",
      "source": [
        "target = 'two_year_recid'  # Ganti kalau target lain\n",
        "y = df[target]\n",
        "\n",
        "# Cek distribusi target\n",
        "sns.histplot(df[target], kde=True)\n",
        "plt.title(f'Distribusi {target}')\n",
        "plt.show()\n",
        "\n",
        "df = df.drop(target, axis=1)"
      ],
      "metadata": {
        "colab": {
          "base_uri": "https://localhost:8080/",
          "height": 472
        },
        "id": "6jYsQR5Q5AXw",
        "outputId": "7238dc9e-4cc7-432c-9395-220cf395e1f7"
      },
      "execution_count": 8,
      "outputs": [
        {
          "output_type": "display_data",
          "data": {
            "text/plain": [
              "<Figure size 640x480 with 1 Axes>"
            ],
            "image/png": "[encoded data removed]"
          },
          "metadata": {}
        }
      ]
    },
    {
      "cell_type": "code",
      "source": [
        "selected_features = [\n",
        "    'age', 'sex', 'race',\n",
        "    'juv_fel_count', 'juv_misd_count', 'juv_other_count',\n",
        "    'priors_count', 'c_charge_degree'\n",
        "]\n",
        "\n",
        "df = df[selected_features]\n",
        "\n",
        "num_cols = df.select_dtypes(include=['int64', 'float64']).columns\n",
        "cat_cols = df.select_dtypes(include=['object']).columns\n",
        "\n",
        "# Imputasi sederhana\n",
        "df[num_cols] = df[num_cols].fillna(df[num_cols].median())\n",
        "df[cat_cols] = df[cat_cols].fillna(df[cat_cols].mode().iloc[0])\n",
        "df = pd.get_dummies(df)\n",
        "\n",
        "print(df.isnull().sum().sum())  # Harusnya 0"
      ],
      "metadata": {
        "id": "I4p01qa50LRY",
        "colab": {
          "base_uri": "https://localhost:8080/"
        },
        "outputId": "423ab518-ada6-421d-b76b-cc7ca0b27b7d"
      },
      "execution_count": 9,
      "outputs": [
        {
          "output_type": "stream",
          "name": "stdout",
          "text": [
            "0\n"
          ]
        }
      ]
    },
    {
      "cell_type": "code",
      "source": [
        "# Split train/test\n",
        "X = df\n",
        "X_train, X_test, y_train, y_test = train_test_split(X, y, test_size=0.2, random_state=42)\n",
        "\n",
        "# Encode target\n",
        "le = LabelEncoder()\n",
        "y_train = le.fit_transform(y_train)\n",
        "y_test = le.transform(y_test)\n",
        "\n",
        "# Pakai Logistic Regression\n",
        "model = LogisticRegression(max_iter=1000)\n",
        "model.fit(X_train, y_train)\n",
        "\n",
        "# Predict\n",
        "y_pred = model.predict(X_test)\n",
        "\n",
        "# Evaluasi\n",
        "print(\"Accuracy:\", accuracy_score(y_test, y_pred))\n",
        "print(classification_report(y_test, y_pred, target_names=['Tidak Reoffend', 'Reoffend']))"
      ],
      "metadata": {
        "id": "5H8zTYMg0WCL",
        "colab": {
          "base_uri": "https://localhost:8080/"
        },
        "outputId": "e1e82855-b54a-4020-edde-168de8809848"
      },
      "execution_count": 11,
      "outputs": [
        {
          "output_type": "stream",
          "name": "stdout",
          "text": [
            "Accuracy: 0.6902286902286903\n",
            "                precision    recall  f1-score   support\n",
            "\n",
            "Tidak Reoffend       0.71      0.78      0.74       823\n",
            "      Reoffend       0.66      0.58      0.62       620\n",
            "\n",
            "      accuracy                           0.69      1443\n",
            "     macro avg       0.68      0.68      0.68      1443\n",
            "  weighted avg       0.69      0.69      0.69      1443\n",
            "\n"
          ]
        }
      ]
    },
    {
      "cell_type": "code",
      "source": [
        "y_pred_proba = model.predict_proba(X_test)[:, 1]  # ambil probabilitas kelas positif\n",
        "\n",
        "# ROC curve\n",
        "fpr, tpr, thresholds = roc_curve(y_test,y_pred_proba)\n",
        "# AUC\n",
        "auc = roc_auc_score(y_test, y_pred_proba)\n",
        "\n",
        "# Plot ROC Curve\n",
        "plt.plot(fpr, tpr, label=f\"AUC = {auc:.2f}\")\n",
        "plt.plot([0, 1], [0, 1], 'k--')  # garis random\n",
        "plt.xlabel('False Positive Rate')\n",
        "plt.ylabel('True Positive Rate')\n",
        "plt.title('ROC Curve')\n",
        "plt.legend(loc=\"lower right\")\n",
        "plt.show()\n",
        "\n",
        "print(f\"AUC Score: {auc}\")"
      ],
      "metadata": {
        "id": "CUtowXid0xVC",
        "colab": {
          "base_uri": "https://localhost:8080/",
          "height": 489
        },
        "outputId": "4c853f13-4f7e-4550-94bc-dc9a350c1bbc"
      },
      "execution_count": 12,
      "outputs": [
        {
          "output_type": "display_data",
          "data": {
            "text/plain": [
              "<Figure size 640x480 with 1 Axes>"
            ],
            "image/png": "[encoded data removed]"
          },
          "metadata": {}
        },
        {
          "output_type": "stream",
          "name": "stdout",
          "text": [
            "AUC Score: 0.7349841257398189\n"
          ]
        }
      ]
    },
    {
      "cell_type": "markdown",
      "source": [
        "# Matriks Evaluasi\n",
        "## **Accuracy**\n",
        "Accuracy mengukur seberapa sering model membuat prediksi yang benar dibandingkan dengan total data.\n",
        "\n",
        "$$\n",
        "Accuracy = \\frac{TP + TN}{TP + TN + FP + FN}\n",
        "$$\n",
        "\n",
        "Di mana:  \n",
        "- $TP$ = True Positive  \n",
        "- $TN$ = True Negative  \n",
        "- $FP$ = False Positive  \n",
        "- $FN$ = False Negative  \n",
        "\n",
        "Semakin tinggi **accuracy**, semakin baik performa model secara keseluruhan.\n",
        "\n",
        "## **Precision**\n",
        "Precision mengukur seberapa banyak prediksi positif yang benar dibandingkan dengan total prediksi positif.\n",
        "\n",
        "$$\n",
        "Precision = \\frac{TP}{TP + FP}\n",
        "$$\n",
        "\n",
        "Precision tinggi berarti model jarang salah dalam memprediksi kelas positif. Berguna ketika **false positive** harus diminimalkan, misalnya dalam **deteksi kanker**.\n",
        "\n",
        "## **Recall**\n",
        "Recall mengukur seberapa banyak sampel positif yang benar-benar terdeteksi oleh model.\n",
        "\n",
        "$$\n",
        "Recall = \\frac{TP}{TP + FN}\n",
        "$$\n",
        "\n",
        "Recall tinggi berarti model tidak melewatkan banyak sampel positif. Sangat penting dalam **deteksi penyakit atau penipuan**, di mana **false negative** harus diminimalkan.\n",
        "\n",
        "##**F1 Score**\n",
        "F1 Score adalah rata-rata harmonik antara Precision dan Recall. Berguna saat dataset tidak seimbang.\n",
        "\n",
        "$$\n",
        "F1\\ Score = 2 \\times \\frac{Precision \\times Recall}{Precision + Recall}\n",
        "$$\n",
        "\n",
        "F1 Score tinggi berarti keseimbangan yang baik antara Precision dan Recall.\n",
        "\n",
        "## **ROC dan AUC**\n",
        "ROC (**Receiver Operating Characteristic**) adalah kurva yang menunjukkan trade-off antara **True Positive Rate (TPR)** dan **False Positive Rate (FPR)**.\n",
        "\n",
        "$$\n",
        "TPR = \\frac{TP}{TP + FN}\n",
        "$$\n",
        "\n",
        "$$\n",
        "FPR = \\frac{FP}{FP + TN}\n",
        "$$\n",
        "\n",
        "Jika nilai semakin mendekati 1, semakin bagus modelnya. Sedangkan jika nilai di bawah 0.5, model tersebut lebih buruk dari tebakan acak."
      ],
      "metadata": {
        "id": "XeK7Wqwd6Hjh"
      }
    },
    {
      "cell_type": "code",
      "source": [],
      "metadata": {
        "id": "y9VwBHVN13fa"
      },
      "execution_count": null,
      "outputs": []
    }
  ]
}