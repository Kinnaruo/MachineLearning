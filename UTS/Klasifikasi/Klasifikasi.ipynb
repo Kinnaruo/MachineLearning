{
  "nbformat": 4,
  "nbformat_minor": 0,
  "metadata": {
    "colab": {
      "provenance": [],
      "authorship_tag": "ABX9TyNmsnG/Nvyzd//pDJC/bBLh",
      "include_colab_link": true
    },
    "kernelspec": {
      "name": "python3",
      "display_name": "Python 3"
    },
    "language_info": {
      "name": "python"
    }
  },
  "cells": [
    {
      "cell_type": "markdown",
      "metadata": {
        "id": "view-in-github",
        "colab_type": "text"
      },
      "source": [
        "<a href=\"https://colab.research.google.com/github/Kinnaruo/MachineLearning/blob/main/UTS/Klasifikasi/Klasifikasi.ipynb\" target=\"_parent\"><img src=\"https://colab.research.google.com/assets/colab-badge.svg\" alt=\"Open In Colab\"/></a>"
      ]
    },
    {
      "cell_type": "code",
      "source": [
        "import pandas as pd\n",
        "from sklearn.feature_selection import VarianceThreshold\n",
        "from sklearn.feature_selection import mutual_info_classif, SelectKBest\n",
        "from sklearn.model_selection import train_test_split\n",
        "from sklearn.preprocessing import StandardScaler\n",
        "from sklearn.linear_model import LogisticRegression\n",
        "from sklearn.tree import DecisionTreeClassifier\n",
        "from sklearn.neighbors import KNeighborsClassifier\n",
        "from sklearn.ensemble import BaggingClassifier, AdaBoostClassifier\n",
        "from sklearn.svm import SVC\n",
        "from sklearn.metrics import accuracy_score, precision_score, recall_score, f1_score, confusion_matrix, roc_auc_score, RocCurveDisplay\n",
        "import matplotlib.pyplot as plt"
      ],
      "metadata": {
        "id": "ozi7H60jspZF"
      },
      "execution_count": 1,
      "outputs": []
    },
    {
      "cell_type": "code",
      "execution_count": 4,
      "metadata": {
        "id": "5cGZAW60r7EY"
      },
      "outputs": [],
      "source": [
        "df = pd.read_csv(\"/content/KlasifikasiUTS.csv\")\n",
        "X = df.drop(\"Class\", axis=1)\n",
        "y = df[\"Class\"]\n",
        "\n",
        "\n",
        "X = VarianceThreshold(threshold=0.01).fit_transform(X)"
      ]
    },
    {
      "cell_type": "code",
      "source": [
        "selector = VarianceThreshold(threshold=0.01)\n",
        "X = selector.fit_transform(X)\n",
        "\n",
        "X_train, X_test, y_train, y_test = train_test_split(X, y, test_size=0.2, random_state=42)\n",
        "\n",
        "# Standardisasi\n",
        "scaler = StandardScaler()\n",
        "X_train_scaled = scaler.fit_transform(X_train)\n",
        "X_test_scaled = scaler.transform(X_test)"
      ],
      "metadata": {
        "id": "nwsas97ywe3T"
      },
      "execution_count": 6,
      "outputs": []
    },
    {
      "cell_type": "markdown",
      "source": [
        "# Logistic Regression"
      ],
      "metadata": {
        "id": "HCojr0GJyiiE"
      }
    },
    {
      "cell_type": "code",
      "source": [
        "results = {}\n",
        "\n",
        "model = LogisticRegression(max_iter=1000)\n",
        "model.fit(X_train_scaled, y_train)\n",
        "y_pred = model.predict(X_test_scaled)\n",
        "y_prob = model.predict_proba(X_test_scaled)[:, 1]\n",
        "\n",
        "acc = accuracy_score(y_test, y_pred)\n",
        "prec = precision_score(y_test, y_pred)\n",
        "rec = recall_score(y_test, y_pred)\n",
        "f1 = f1_score(y_test, y_pred)\n",
        "auc = roc_auc_score(y_test, y_prob)\n",
        "\n",
        "print(\"📌 Logistic Regression\")\n",
        "print(f\"Accuracy : {acc:.2f}\")\n",
        "print(f\"Precision: {prec:.2f}\")\n",
        "print(f\"Recall   : {rec:.2f}\")\n",
        "print(f\"F1 Score : {f1:.2f}\")\n",
        "print(f\"AUC      : {auc:.2f}\")\n",
        "\n",
        "results[\"Logistic Regression\"] = {\"Accuracy\": acc, \"Precision\": prec, \"Recall\": rec, \"F1\": f1, \"AUC\": auc}"
      ],
      "metadata": {
        "colab": {
          "base_uri": "https://localhost:8080/"
        },
        "id": "yYNHODUpw8my",
        "outputId": "4d505140-1f6e-4d42-e71d-23d6ed085dc2"
      },
      "execution_count": 7,
      "outputs": [
        {
          "output_type": "stream",
          "name": "stdout",
          "text": [
            "📌 Logistic Regression\n",
            "Accuracy : 1.00\n",
            "Precision: 0.85\n",
            "Recall   : 0.56\n",
            "F1 Score : 0.67\n",
            "AUC      : 0.98\n"
          ]
        }
      ]
    },
    {
      "cell_type": "markdown",
      "source": [
        "Logistic Regression adalah model klasifikasi linier yang digunakan untuk memprediksi probabilitas kelas dalam masalah klasifikasi biner (atau dengan ekstensi, multi-kelas). Model ini menghitung log-odds dari kelas target sebagai kombinasi linier dari fitur input. Karena sifatnya yang sederhana dan interpretatif, Logistic Regression sangat berguna sebagai baseline model atau ketika pemahaman terhadap pengaruh setiap fitur penting. Meski demikian, model ini kurang cocok jika data memiliki relasi non-linier yang kuat antar fitur."
      ],
      "metadata": {
        "id": "9agNiWnf812Y"
      }
    },
    {
      "cell_type": "markdown",
      "source": [
        "# Decision Tree"
      ],
      "metadata": {
        "id": "zLrx40eoyk9N"
      }
    },
    {
      "cell_type": "code",
      "source": [
        "model = DecisionTreeClassifier()\n",
        "model.fit(X_train_scaled, y_train)\n",
        "y_pred = model.predict(X_test_scaled)\n",
        "y_prob = model.predict_proba(X_test_scaled)[:, 1]\n",
        "\n",
        "acc = accuracy_score(y_test, y_pred)\n",
        "prec = precision_score(y_test, y_pred)\n",
        "rec = recall_score(y_test, y_pred)\n",
        "f1 = f1_score(y_test, y_pred)\n",
        "auc = roc_auc_score(y_test, y_prob)\n",
        "\n",
        "print(\"📌 Decision Tree\")\n",
        "print(f\"Accuracy : {acc:.2f}\")\n",
        "print(f\"Precision: {prec:.2f}\")\n",
        "print(f\"Recall   : {rec:.2f}\")\n",
        "print(f\"F1 Score : {f1:.2f}\")\n",
        "print(f\"AUC      : {auc:.2f}\")\n",
        "\n",
        "results[\"Decision Tree\"] = {\"Accuracy\": acc, \"Precision\": prec, \"Recall\": rec, \"F1\": f1, \"AUC\": auc}"
      ],
      "metadata": {
        "colab": {
          "base_uri": "https://localhost:8080/"
        },
        "id": "0escHgl7xHpO",
        "outputId": "d59a4b75-e47c-4e60-bad4-746b1fb24fdb"
      },
      "execution_count": 8,
      "outputs": [
        {
          "output_type": "stream",
          "name": "stdout",
          "text": [
            "📌 Decision Tree\n",
            "Accuracy : 1.00\n",
            "Precision: 0.72\n",
            "Recall   : 0.81\n",
            "F1 Score : 0.76\n",
            "AUC      : 0.90\n"
          ]
        }
      ]
    },
    {
      "cell_type": "markdown",
      "source": [
        "Decision Tree membagi dataset ke dalam cabang-cabang berdasarkan aturan keputusan dari fitur input. Proses pembagian dilakukan dengan memilih fitur yang paling baik memisahkan kelas berdasarkan metrik seperti Gini Index atau Entropy. Model ini mudah diinterpretasikan, namun rentan terhadap overfitting jika tidak dibatasi kedalaman pohonnya. Cocok untuk data dengan interaksi kompleks antar fitur dan tidak membutuhkan skala fitur."
      ],
      "metadata": {
        "id": "66Ti2EDn87Bf"
      }
    },
    {
      "cell_type": "markdown",
      "source": [
        "# KNN"
      ],
      "metadata": {
        "id": "s9K7X_hEymrf"
      }
    },
    {
      "cell_type": "code",
      "source": [
        "model = KNeighborsClassifier()\n",
        "model.fit(X_train_scaled, y_train)\n",
        "y_pred = model.predict(X_test_scaled)\n",
        "y_prob = model.predict_proba(X_test_scaled)[:, 1]\n",
        "\n",
        "acc = accuracy_score(y_test, y_pred)\n",
        "prec = precision_score(y_test, y_pred)\n",
        "rec = recall_score(y_test, y_pred)\n",
        "f1 = f1_score(y_test, y_pred)\n",
        "auc = roc_auc_score(y_test, y_prob)\n",
        "\n",
        "print(\"📌 K-Nearest Neighbors\")\n",
        "print(f\"Accuracy : {acc:.2f}\")\n",
        "print(f\"Precision: {prec:.2f}\")\n",
        "print(f\"Recall   : {rec:.2f}\")\n",
        "print(f\"F1 Score : {f1:.2f}\")\n",
        "print(f\"AUC      : {auc:.2f}\")\n",
        "\n",
        "results[\"KNN\"] = {\"Accuracy\": acc, \"Precision\": prec, \"Recall\": rec, \"F1\": f1, \"AUC\": auc}"
      ],
      "metadata": {
        "colab": {
          "base_uri": "https://localhost:8080/"
        },
        "id": "8hGvlw1Ux5tX",
        "outputId": "b872601c-72ee-4883-a491-076fe0b29857"
      },
      "execution_count": 9,
      "outputs": [
        {
          "output_type": "stream",
          "name": "stdout",
          "text": [
            "📌 K-Nearest Neighbors\n",
            "Accuracy : 1.00\n",
            "Precision: 0.94\n",
            "Recall   : 0.78\n",
            "F1 Score : 0.85\n",
            "AUC      : 0.93\n"
          ]
        }
      ]
    },
    {
      "cell_type": "markdown",
      "source": [
        "KNN adalah model berbasis instance yang mengklasifikasikan data baru berdasarkan mayoritas label dari k tetangga terdekatnya. Jarak (biasanya Euclidean) digunakan untuk menentukan kedekatan antar titik. Model ini sangat intuitif dan non-parametrik, namun kurang efisien pada dataset besar karena proses prediksi dilakukan saat inferensi (lazy learner). KNN juga sensitif terhadap skala data, sehingga normalisasi sangat disarankan."
      ],
      "metadata": {
        "id": "g0lNF7Ik8-sa"
      }
    },
    {
      "cell_type": "markdown",
      "source": [
        "# Bagging Classifier"
      ],
      "metadata": {
        "id": "LbWjrNm8ypnv"
      }
    },
    {
      "cell_type": "code",
      "source": [
        "model = BaggingClassifier()\n",
        "model.fit(X_train_scaled, y_train)\n",
        "y_pred = model.predict(X_test_scaled)\n",
        "y_prob = model.predict_proba(X_test_scaled)[:, 1]\n",
        "\n",
        "acc = accuracy_score(y_test, y_pred)\n",
        "prec = precision_score(y_test, y_pred)\n",
        "rec = recall_score(y_test, y_pred)\n",
        "f1 = f1_score(y_test, y_pred)\n",
        "auc = roc_auc_score(y_test, y_prob)\n",
        "\n",
        "print(\"📌 Bagging Classifier\")\n",
        "print(f\"Accuracy : {acc:.2f}\")\n",
        "print(f\"Precision: {prec:.2f}\")\n",
        "print(f\"Recall   : {rec:.2f}\")\n",
        "print(f\"F1 Score : {f1:.2f}\")\n",
        "print(f\"AUC      : {auc:.2f}\")\n",
        "\n",
        "results[\"Bagging\"] = {\"Accuracy\": acc, \"Precision\": prec, \"Recall\": rec, \"F1\": f1, \"AUC\": auc}\n"
      ],
      "metadata": {
        "colab": {
          "base_uri": "https://localhost:8080/"
        },
        "id": "MTVpwUnnx_7W",
        "outputId": "b9b32e93-5a56-4ebd-8963-907db4a8fe1e"
      },
      "execution_count": 10,
      "outputs": [
        {
          "output_type": "stream",
          "name": "stdout",
          "text": [
            "📌 Bagging Classifier\n",
            "Accuracy : 1.00\n",
            "Precision: 0.94\n",
            "Recall   : 0.79\n",
            "F1 Score : 0.86\n",
            "AUC      : 0.92\n"
          ]
        }
      ]
    },
    {
      "cell_type": "markdown",
      "source": [
        "Bagging (Bootstrap Aggregating) adalah teknik ensemble yang melatih banyak model dasar (biasanya decision tree) pada subset data yang diambil secara acak dengan pengembalian. Prediksi akhir diambil dari voting mayoritas (untuk klasifikasi). Tujuan utama bagging adalah mengurangi variansi dan meningkatkan stabilitas model. Model ini sangat efektif untuk model dasar yang cenderung overfitting, seperti decision tree."
      ],
      "metadata": {
        "id": "kG_EDLS-9CoS"
      }
    },
    {
      "cell_type": "markdown",
      "source": [
        "# AdaBoost"
      ],
      "metadata": {
        "id": "UUdHYq29ysFd"
      }
    },
    {
      "cell_type": "code",
      "source": [
        "model = AdaBoostClassifier()\n",
        "model.fit(X_train_scaled, y_train)\n",
        "y_pred = model.predict(X_test_scaled)\n",
        "y_prob = model.predict_proba(X_test_scaled)[:, 1]\n",
        "\n",
        "acc = accuracy_score(y_test, y_pred)\n",
        "prec = precision_score(y_test, y_pred)\n",
        "rec = recall_score(y_test, y_pred)\n",
        "f1 = f1_score(y_test, y_pred)\n",
        "auc = roc_auc_score(y_test, y_prob)\n",
        "\n",
        "print(\"📌 AdaBoost Classifier\")\n",
        "print(f\"Accuracy : {acc:.2f}\")\n",
        "print(f\"Precision: {prec:.2f}\")\n",
        "print(f\"Recall   : {rec:.2f}\")\n",
        "print(f\"F1 Score : {f1:.2f}\")\n",
        "print(f\"AUC      : {auc:.2f}\")\n",
        "\n",
        "results[\"AdaBoost\"] = {\"Accuracy\": acc, \"Precision\": prec, \"Recall\": rec, \"F1\": f1, \"AUC\": auc}"
      ],
      "metadata": {
        "colab": {
          "base_uri": "https://localhost:8080/"
        },
        "id": "LALvjLXSyMcD",
        "outputId": "bb652f6e-f6e5-4fa6-b4a7-6b5c2b2552a3"
      },
      "execution_count": 11,
      "outputs": [
        {
          "output_type": "stream",
          "name": "stdout",
          "text": [
            "📌 AdaBoost Classifier\n",
            "Accuracy : 1.00\n",
            "Precision: 0.79\n",
            "Recall   : 0.68\n",
            "F1 Score : 0.73\n",
            "AUC      : 0.98\n"
          ]
        }
      ]
    },
    {
      "cell_type": "markdown",
      "source": [
        "AdaBoost bekerja dengan melatih model lemah secara berurutan, di mana setiap model berikutnya fokus pada kesalahan yang dibuat oleh model sebelumnya. Model akhir adalah gabungan dari semua model lemah dengan bobot yang diberikan berdasarkan performanya. AdaBoost efektif untuk meningkatkan akurasi model lemah, tetapi sensitif terhadap outlier dan noise. Biasanya digunakan dengan decision stump (tree 1-level) sebagai model dasarnya."
      ],
      "metadata": {
        "id": "qnoL0j1a9HW4"
      }
    },
    {
      "cell_type": "markdown",
      "source": [
        "# SVC"
      ],
      "metadata": {
        "id": "iyff0BWuytgV"
      }
    },
    {
      "cell_type": "code",
      "source": [
        "model = SVC(probability=True)\n",
        "model.fit(X_train_scaled, y_train)\n",
        "y_pred = model.predict(X_test_scaled)\n",
        "y_prob = model.predict_proba(X_test_scaled)[:, 1]\n",
        "\n",
        "acc = accuracy_score(y_test, y_pred)\n",
        "prec = precision_score(y_test, y_pred)\n",
        "rec = recall_score(y_test, y_pred)\n",
        "f1 = f1_score(y_test, y_pred)\n",
        "auc = roc_auc_score(y_test, y_prob)\n",
        "\n",
        "print(\"📌 Support Vector Classifier\")\n",
        "print(f\"Accuracy : {acc:.2f}\")\n",
        "print(f\"Precision: {prec:.2f}\")\n",
        "print(f\"Recall   : {rec:.2f}\")\n",
        "print(f\"F1 Score : {f1:.2f}\")\n",
        "print(f\"AUC      : {auc:.2f}\")\n",
        "\n",
        "results[\"SVC\"] = {\"Accuracy\": acc, \"Precision\": prec, \"Recall\": rec, \"F1\": f1, \"AUC\": auc}"
      ],
      "metadata": {
        "colab": {
          "base_uri": "https://localhost:8080/"
        },
        "id": "gtAI3EtfyQzW",
        "outputId": "af8f595c-b5f7-4924-a0e1-646e845dcad7"
      },
      "execution_count": 12,
      "outputs": [
        {
          "output_type": "stream",
          "name": "stdout",
          "text": [
            "📌 Support Vector Classifier\n",
            "Accuracy : 1.00\n",
            "Precision: 0.97\n",
            "Recall   : 0.62\n",
            "F1 Score : 0.76\n",
            "AUC      : 0.96\n"
          ]
        }
      ]
    },
    {
      "cell_type": "markdown",
      "source": [
        "SVC menggunakan prinsip margin maksimal untuk memisahkan kelas. Ia mencari hyperplane optimal yang memaksimalkan jarak antara kelas berbeda. Dengan bantuan kernel trick, SVC dapat menangani data non-linear dengan sangat baik. Meski akurat dan cocok untuk dataset kecil hingga menengah, SVC bisa lambat saat bekerja dengan dataset besar dan membutuhkan tuning hyperparameter yang teliti (misalnya C, kernel, dan gamma)."
      ],
      "metadata": {
        "id": "HoWhT1uX9L0Z"
      }
    },
    {
      "cell_type": "code",
      "source": [
        "import pandas as pd\n",
        "\n",
        "results_df = pd.DataFrame(results).T\n",
        "results_df = results_df.sort_values(\"F1\", ascending=False)\n",
        "\n",
        "print(\"📊 Ringkasan Evaluasi Model Klasifikasi:\")\n",
        "display(results_df)"
      ],
      "metadata": {
        "colab": {
          "base_uri": "https://localhost:8080/",
          "height": 255
        },
        "id": "DWmXbFxB8ncS",
        "outputId": "42bbab9e-04d9-48d5-cf0f-0e64aee53928"
      },
      "execution_count": 13,
      "outputs": [
        {
          "output_type": "stream",
          "name": "stdout",
          "text": [
            "📊 Ringkasan Evaluasi Model Klasifikasi:\n"
          ]
        },
        {
          "output_type": "display_data",
          "data": {
            "text/plain": [
              "                     Accuracy  Precision    Recall        F1       AUC\n",
              "Bagging              0.999544   0.939024  0.785714  0.855556  0.923182\n",
              "KNN                  0.999526   0.938272  0.775510  0.849162  0.933560\n",
              "Decision Tree        0.999140   0.724771  0.806122  0.763285  0.902797\n",
              "SVC                  0.999315   0.968254  0.622449  0.757764  0.961881\n",
              "AdaBoost             0.999140   0.788235  0.683673  0.732240  0.975455\n",
              "Logistic Regression  0.999070   0.846154  0.561224  0.674847  0.975861"
            ],
            "text/html": [
              "\n",
              "  <div id=\"df-149236e3-1106-4ac6-8d63-9ca66a20d8e6\" class=\"colab-df-container\">\n",
              "    <div>\n",
              "<style scoped>\n",
              "    .dataframe tbody tr th:only-of-type {\n",
              "        vertical-align: middle;\n",
              "    }\n",
              "\n",
              "    .dataframe tbody tr th {\n",
              "        vertical-align: top;\n",
              "    }\n",
              "\n",
              "    .dataframe thead th {\n",
              "        text-align: right;\n",
              "    }\n",
              "</style>\n",
              "<table border=\"1\" class=\"dataframe\">\n",
              "  <thead>\n",
              "    <tr style=\"text-align: right;\">\n",
              "      <th></th>\n",
              "      <th>Accuracy</th>\n",
              "      <th>Precision</th>\n",
              "      <th>Recall</th>\n",
              "      <th>F1</th>\n",
              "      <th>AUC</th>\n",
              "    </tr>\n",
              "  </thead>\n",
              "  <tbody>\n",
              "    <tr>\n",
              "      <th>Bagging</th>\n",
              "      <td>0.999544</td>\n",
              "      <td>0.939024</td>\n",
              "      <td>0.785714</td>\n",
              "      <td>0.855556</td>\n",
              "      <td>0.923182</td>\n",
              "    </tr>\n",
              "    <tr>\n",
              "      <th>KNN</th>\n",
              "      <td>0.999526</td>\n",
              "      <td>0.938272</td>\n",
              "      <td>0.775510</td>\n",
              "      <td>0.849162</td>\n",
              "      <td>0.933560</td>\n",
              "    </tr>\n",
              "    <tr>\n",
              "      <th>Decision Tree</th>\n",
              "      <td>0.999140</td>\n",
              "      <td>0.724771</td>\n",
              "      <td>0.806122</td>\n",
              "      <td>0.763285</td>\n",
              "      <td>0.902797</td>\n",
              "    </tr>\n",
              "    <tr>\n",
              "      <th>SVC</th>\n",
              "      <td>0.999315</td>\n",
              "      <td>0.968254</td>\n",
              "      <td>0.622449</td>\n",
              "      <td>0.757764</td>\n",
              "      <td>0.961881</td>\n",
              "    </tr>\n",
              "    <tr>\n",
              "      <th>AdaBoost</th>\n",
              "      <td>0.999140</td>\n",
              "      <td>0.788235</td>\n",
              "      <td>0.683673</td>\n",
              "      <td>0.732240</td>\n",
              "      <td>0.975455</td>\n",
              "    </tr>\n",
              "    <tr>\n",
              "      <th>Logistic Regression</th>\n",
              "      <td>0.999070</td>\n",
              "      <td>0.846154</td>\n",
              "      <td>0.561224</td>\n",
              "      <td>0.674847</td>\n",
              "      <td>0.975861</td>\n",
              "    </tr>\n",
              "  </tbody>\n",
              "</table>\n",
              "</div>\n",
              "    <div class=\"colab-df-buttons\">\n",
              "\n",
              "  <div class=\"colab-df-container\">\n",
              "    <button class=\"colab-df-convert\" onclick=\"convertToInteractive('df-149236e3-1106-4ac6-8d63-9ca66a20d8e6')\"\n",
              "            title=\"Convert this dataframe to an interactive table.\"\n",
              "            style=\"display:none;\">\n",
              "\n",
              "  <svg xmlns=\"http://www.w3.org/2000/svg\" height=\"24px\" viewBox=\"0 -960 960 960\">\n",
              "    <path d=\"M120-120v-720h720v720H120Zm60-500h600v-160H180v160Zm220 220h160v-160H400v160Zm0 220h160v-160H400v160ZM180-400h160v-160H180v160Zm440 0h160v-160H620v160ZM180-180h160v-160H180v160Zm440 0h160v-160H620v160Z\"/>\n",
              "  </svg>\n",
              "    </button>\n",
              "\n",
              "  <style>\n",
              "    .colab-df-container {\n",
              "      display:flex;\n",
              "      gap: 12px;\n",
              "    }\n",
              "\n",
              "    .colab-df-convert {\n",
              "      background-color: #E8F0FE;\n",
              "      border: none;\n",
              "      border-radius: 50%;\n",
              "      cursor: pointer;\n",
              "      display: none;\n",
              "      fill: #1967D2;\n",
              "      height: 32px;\n",
              "      padding: 0 0 0 0;\n",
              "      width: 32px;\n",
              "    }\n",
              "\n",
              "    .colab-df-convert:hover {\n",
              "      background-color: #E2EBFA;\n",
              "      box-shadow: 0px 1px 2px rgba(60, 64, 67, 0.3), 0px 1px 3px 1px rgba(60, 64, 67, 0.15);\n",
              "      fill: #174EA6;\n",
              "    }\n",
              "\n",
              "    .colab-df-buttons div {\n",
              "      margin-bottom: 4px;\n",
              "    }\n",
              "\n",
              "    [theme=dark] .colab-df-convert {\n",
              "      background-color: #3B4455;\n",
              "      fill: #D2E3FC;\n",
              "    }\n",
              "\n",
              "    [theme=dark] .colab-df-convert:hover {\n",
              "      background-color: #434B5C;\n",
              "      box-shadow: 0px 1px 3px 1px rgba(0, 0, 0, 0.15);\n",
              "      filter: drop-shadow(0px 1px 2px rgba(0, 0, 0, 0.3));\n",
              "      fill: #FFFFFF;\n",
              "    }\n",
              "  </style>\n",
              "\n",
              "    <script>\n",
              "      const buttonEl =\n",
              "        document.querySelector('#df-149236e3-1106-4ac6-8d63-9ca66a20d8e6 button.colab-df-convert');\n",
              "      buttonEl.style.display =\n",
              "        google.colab.kernel.accessAllowed ? 'block' : 'none';\n",
              "\n",
              "      async function convertToInteractive(key) {\n",
              "        const element = document.querySelector('#df-149236e3-1106-4ac6-8d63-9ca66a20d8e6');\n",
              "        const dataTable =\n",
              "          await google.colab.kernel.invokeFunction('convertToInteractive',\n",
              "                                                    [key], {});\n",
              "        if (!dataTable) return;\n",
              "\n",
              "        const docLinkHtml = 'Like what you see? Visit the ' +\n",
              "          '<a target=\"_blank\" href=https://colab.research.google.com/notebooks/data_table.ipynb>data table notebook</a>'\n",
              "          + ' to learn more about interactive tables.';\n",
              "        element.innerHTML = '';\n",
              "        dataTable['output_type'] = 'display_data';\n",
              "        await google.colab.output.renderOutput(dataTable, element);\n",
              "        const docLink = document.createElement('div');\n",
              "        docLink.innerHTML = docLinkHtml;\n",
              "        element.appendChild(docLink);\n",
              "      }\n",
              "    </script>\n",
              "  </div>\n",
              "\n",
              "\n",
              "    <div id=\"df-d2f50531-2e81-4996-8a03-ef9245c01ba8\">\n",
              "      <button class=\"colab-df-quickchart\" onclick=\"quickchart('df-d2f50531-2e81-4996-8a03-ef9245c01ba8')\"\n",
              "                title=\"Suggest charts\"\n",
              "                style=\"display:none;\">\n",
              "\n",
              "<svg xmlns=\"http://www.w3.org/2000/svg\" height=\"24px\"viewBox=\"0 0 24 24\"\n",
              "     width=\"24px\">\n",
              "    <g>\n",
              "        <path d=\"M19 3H5c-1.1 0-2 .9-2 2v14c0 1.1.9 2 2 2h14c1.1 0 2-.9 2-2V5c0-1.1-.9-2-2-2zM9 17H7v-7h2v7zm4 0h-2V7h2v10zm4 0h-2v-4h2v4z\"/>\n",
              "    </g>\n",
              "</svg>\n",
              "      </button>\n",
              "\n",
              "<style>\n",
              "  .colab-df-quickchart {\n",
              "      --bg-color: #E8F0FE;\n",
              "      --fill-color: #1967D2;\n",
              "      --hover-bg-color: #E2EBFA;\n",
              "      --hover-fill-color: #174EA6;\n",
              "      --disabled-fill-color: #AAA;\n",
              "      --disabled-bg-color: #DDD;\n",
              "  }\n",
              "\n",
              "  [theme=dark] .colab-df-quickchart {\n",
              "      --bg-color: #3B4455;\n",
              "      --fill-color: #D2E3FC;\n",
              "      --hover-bg-color: #434B5C;\n",
              "      --hover-fill-color: #FFFFFF;\n",
              "      --disabled-bg-color: #3B4455;\n",
              "      --disabled-fill-color: #666;\n",
              "  }\n",
              "\n",
              "  .colab-df-quickchart {\n",
              "    background-color: var(--bg-color);\n",
              "    border: none;\n",
              "    border-radius: 50%;\n",
              "    cursor: pointer;\n",
              "    display: none;\n",
              "    fill: var(--fill-color);\n",
              "    height: 32px;\n",
              "    padding: 0;\n",
              "    width: 32px;\n",
              "  }\n",
              "\n",
              "  .colab-df-quickchart:hover {\n",
              "    background-color: var(--hover-bg-color);\n",
              "    box-shadow: 0 1px 2px rgba(60, 64, 67, 0.3), 0 1px 3px 1px rgba(60, 64, 67, 0.15);\n",
              "    fill: var(--button-hover-fill-color);\n",
              "  }\n",
              "\n",
              "  .colab-df-quickchart-complete:disabled,\n",
              "  .colab-df-quickchart-complete:disabled:hover {\n",
              "    background-color: var(--disabled-bg-color);\n",
              "    fill: var(--disabled-fill-color);\n",
              "    box-shadow: none;\n",
              "  }\n",
              "\n",
              "  .colab-df-spinner {\n",
              "    border: 2px solid var(--fill-color);\n",
              "    border-color: transparent;\n",
              "    border-bottom-color: var(--fill-color);\n",
              "    animation:\n",
              "      spin 1s steps(1) infinite;\n",
              "  }\n",
              "\n",
              "  @keyframes spin {\n",
              "    0% {\n",
              "      border-color: transparent;\n",
              "      border-bottom-color: var(--fill-color);\n",
              "      border-left-color: var(--fill-color);\n",
              "    }\n",
              "    20% {\n",
              "      border-color: transparent;\n",
              "      border-left-color: var(--fill-color);\n",
              "      border-top-color: var(--fill-color);\n",
              "    }\n",
              "    30% {\n",
              "      border-color: transparent;\n",
              "      border-left-color: var(--fill-color);\n",
              "      border-top-color: var(--fill-color);\n",
              "      border-right-color: var(--fill-color);\n",
              "    }\n",
              "    40% {\n",
              "      border-color: transparent;\n",
              "      border-right-color: var(--fill-color);\n",
              "      border-top-color: var(--fill-color);\n",
              "    }\n",
              "    60% {\n",
              "      border-color: transparent;\n",
              "      border-right-color: var(--fill-color);\n",
              "    }\n",
              "    80% {\n",
              "      border-color: transparent;\n",
              "      border-right-color: var(--fill-color);\n",
              "      border-bottom-color: var(--fill-color);\n",
              "    }\n",
              "    90% {\n",
              "      border-color: transparent;\n",
              "      border-bottom-color: var(--fill-color);\n",
              "    }\n",
              "  }\n",
              "</style>\n",
              "\n",
              "      <script>\n",
              "        async function quickchart(key) {\n",
              "          const quickchartButtonEl =\n",
              "            document.querySelector('#' + key + ' button');\n",
              "          quickchartButtonEl.disabled = true;  // To prevent multiple clicks.\n",
              "          quickchartButtonEl.classList.add('colab-df-spinner');\n",
              "          try {\n",
              "            const charts = await google.colab.kernel.invokeFunction(\n",
              "                'suggestCharts', [key], {});\n",
              "          } catch (error) {\n",
              "            console.error('Error during call to suggestCharts:', error);\n",
              "          }\n",
              "          quickchartButtonEl.classList.remove('colab-df-spinner');\n",
              "          quickchartButtonEl.classList.add('colab-df-quickchart-complete');\n",
              "        }\n",
              "        (() => {\n",
              "          let quickchartButtonEl =\n",
              "            document.querySelector('#df-d2f50531-2e81-4996-8a03-ef9245c01ba8 button');\n",
              "          quickchartButtonEl.style.display =\n",
              "            google.colab.kernel.accessAllowed ? 'block' : 'none';\n",
              "        })();\n",
              "      </script>\n",
              "    </div>\n",
              "\n",
              "  <div id=\"id_1d76d562-cc42-4164-b45c-bf29c21a19ae\">\n",
              "    <style>\n",
              "      .colab-df-generate {\n",
              "        background-color: #E8F0FE;\n",
              "        border: none;\n",
              "        border-radius: 50%;\n",
              "        cursor: pointer;\n",
              "        display: none;\n",
              "        fill: #1967D2;\n",
              "        height: 32px;\n",
              "        padding: 0 0 0 0;\n",
              "        width: 32px;\n",
              "      }\n",
              "\n",
              "      .colab-df-generate:hover {\n",
              "        background-color: #E2EBFA;\n",
              "        box-shadow: 0px 1px 2px rgba(60, 64, 67, 0.3), 0px 1px 3px 1px rgba(60, 64, 67, 0.15);\n",
              "        fill: #174EA6;\n",
              "      }\n",
              "\n",
              "      [theme=dark] .colab-df-generate {\n",
              "        background-color: #3B4455;\n",
              "        fill: #D2E3FC;\n",
              "      }\n",
              "\n",
              "      [theme=dark] .colab-df-generate:hover {\n",
              "        background-color: #434B5C;\n",
              "        box-shadow: 0px 1px 3px 1px rgba(0, 0, 0, 0.15);\n",
              "        filter: drop-shadow(0px 1px 2px rgba(0, 0, 0, 0.3));\n",
              "        fill: #FFFFFF;\n",
              "      }\n",
              "    </style>\n",
              "    <button class=\"colab-df-generate\" onclick=\"generateWithVariable('results_df')\"\n",
              "            title=\"Generate code using this dataframe.\"\n",
              "            style=\"display:none;\">\n",
              "\n",
              "  <svg xmlns=\"http://www.w3.org/2000/svg\" height=\"24px\"viewBox=\"0 0 24 24\"\n",
              "       width=\"24px\">\n",
              "    <path d=\"M7,19H8.4L18.45,9,17,7.55,7,17.6ZM5,21V16.75L18.45,3.32a2,2,0,0,1,2.83,0l1.4,1.43a1.91,1.91,0,0,1,.58,1.4,1.91,1.91,0,0,1-.58,1.4L9.25,21ZM18.45,9,17,7.55Zm-12,3A5.31,5.31,0,0,0,4.9,8.1,5.31,5.31,0,0,0,1,6.5,5.31,5.31,0,0,0,4.9,4.9,5.31,5.31,0,0,0,6.5,1,5.31,5.31,0,0,0,8.1,4.9,5.31,5.31,0,0,0,12,6.5,5.46,5.46,0,0,0,6.5,12Z\"/>\n",
              "  </svg>\n",
              "    </button>\n",
              "    <script>\n",
              "      (() => {\n",
              "      const buttonEl =\n",
              "        document.querySelector('#id_1d76d562-cc42-4164-b45c-bf29c21a19ae button.colab-df-generate');\n",
              "      buttonEl.style.display =\n",
              "        google.colab.kernel.accessAllowed ? 'block' : 'none';\n",
              "\n",
              "      buttonEl.onclick = () => {\n",
              "        google.colab.notebook.generateWithVariable('results_df');\n",
              "      }\n",
              "      })();\n",
              "    </script>\n",
              "  </div>\n",
              "\n",
              "    </div>\n",
              "  </div>\n"
            ],
            "application/vnd.google.colaboratory.intrinsic+json": {
              "type": "dataframe",
              "variable_name": "results_df",
              "summary": "{\n  \"name\": \"results_df\",\n  \"rows\": 6,\n  \"fields\": [\n    {\n      \"column\": \"Accuracy\",\n      \"properties\": {\n        \"dtype\": \"number\",\n        \"std\": 0.00020705147826115722,\n        \"min\": 0.9990695551420246,\n        \"max\": 0.9995435553526912,\n        \"num_unique_values\": 5,\n        \"samples\": [\n          0.9995259997893332,\n          0.9990695551420246,\n          0.9991397773954567\n        ],\n        \"semantic_type\": \"\",\n        \"description\": \"\"\n      }\n    },\n    {\n      \"column\": \"Precision\",\n      \"properties\": {\n        \"dtype\": \"number\",\n        \"std\": 0.09735083769860349,\n        \"min\": 0.7247706422018348,\n        \"max\": 0.9682539682539683,\n        \"num_unique_values\": 6,\n        \"samples\": [\n          0.9390243902439024,\n          0.9382716049382716,\n          0.8461538461538461\n        ],\n        \"semantic_type\": \"\",\n        \"description\": \"\"\n      }\n    },\n    {\n      \"column\": \"Recall\",\n      \"properties\": {\n        \"dtype\": \"number\",\n        \"std\": 0.09964883503321216,\n        \"min\": 0.5612244897959183,\n        \"max\": 0.8061224489795918,\n        \"num_unique_values\": 6,\n        \"samples\": [\n          0.7857142857142857,\n          0.7755102040816326,\n          0.5612244897959183\n        ],\n        \"semantic_type\": \"\",\n        \"description\": \"\"\n      }\n    },\n    {\n      \"column\": \"F1\",\n      \"properties\": {\n        \"dtype\": \"number\",\n        \"std\": 0.06961839060911662,\n        \"min\": 0.6748466257668712,\n        \"max\": 0.8555555555555555,\n        \"num_unique_values\": 6,\n        \"samples\": [\n          0.8555555555555555,\n          0.8491620111731844,\n          0.6748466257668712\n        ],\n        \"semantic_type\": \"\",\n        \"description\": \"\"\n      }\n    },\n    {\n      \"column\": \"AUC\",\n      \"properties\": {\n        \"dtype\": \"number\",\n        \"std\": 0.03017162526308411,\n        \"min\": 0.9027974372078602,\n        \"max\": 0.9758614897844337,\n        \"num_unique_values\": 6,\n        \"samples\": [\n          0.923181823728366,\n          0.9335599690776705,\n          0.9758614897844337\n        ],\n        \"semantic_type\": \"\",\n        \"description\": \"\"\n      }\n    }\n  ]\n}"
            }
          },
          "metadata": {}
        }
      ]
    },
    {
      "cell_type": "code",
      "source": [],
      "metadata": {
        "id": "rEr2vyTN8nzJ"
      },
      "execution_count": null,
      "outputs": []
    }
  ]
}